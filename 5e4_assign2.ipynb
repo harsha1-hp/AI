{
  "nbformat": 4,
  "nbformat_minor": 0,
  "metadata": {
    "colab": {
      "name": "5e4_assign2.ipynb",
      "provenance": [],
      "collapsed_sections": [],
      "authorship_tag": "ABX9TyMSR0q5PtfZzXk03gMjacw+",
      "include_colab_link": true
    },
    "kernelspec": {
      "name": "python3",
      "display_name": "Python 3"
    },
    "language_info": {
      "name": "python"
    }
  },
  "cells": [
    {
      "cell_type": "markdown",
      "metadata": {
        "id": "view-in-github",
        "colab_type": "text"
      },
      "source": [
        "<a href=\"https://colab.research.google.com/github/harsha1-hp/AI/blob/main/5e4_assign2.ipynb\" target=\"_parent\"><img src=\"https://colab.research.google.com/assets/colab-badge.svg\" alt=\"Open In Colab\"/></a>"
      ]
    },
    {
      "cell_type": "code",
      "metadata": {
        "colab": {
          "base_uri": "https://localhost:8080/"
        },
        "id": "Cm0BH-f8Tf2P",
        "outputId": "9fc88e72-afb1-4226-888f-70913d5b50d5"
      },
      "source": [
        "import numpy as np\n",
        "x = np.random.uniform(-10,10)\n",
        "eta = 0.008\n",
        "iterations = 7000\n",
        "for i in range(iterations):\n",
        "  gradx = 4*(x**3)+6*x\n",
        "  stepx = -eta*gradx\n",
        "  x += stepx\n",
        "x = round(x)\n",
        "print(f'The value of x is : ', x)\n",
        "print(f'Minimum Vlaue of f(x) : ', (x**4)+3*(x**2)+10 )"
      ],
      "execution_count": 5,
      "outputs": [
        {
          "output_type": "stream",
          "name": "stdout",
          "text": [
            "The value of x is :  0\n",
            "Minimum Vlaue of f(x) :  10\n"
          ]
        }
      ]
    }
  ]
}