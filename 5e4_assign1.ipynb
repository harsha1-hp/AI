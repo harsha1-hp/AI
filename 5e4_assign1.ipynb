{
  "nbformat": 4,
  "nbformat_minor": 0,
  "metadata": {
    "colab": {
      "name": "5e4_assign1.ipynb",
      "provenance": [],
      "authorship_tag": "ABX9TyPLW/NKyibooMsdCWEtF9kE",
      "include_colab_link": true
    },
    "kernelspec": {
      "name": "python3",
      "display_name": "Python 3"
    },
    "language_info": {
      "name": "python"
    }
  },
  "cells": [
    {
      "cell_type": "markdown",
      "metadata": {
        "id": "view-in-github",
        "colab_type": "text"
      },
      "source": [
        "<a href=\"https://colab.research.google.com/github/harsha1-hp/AI/blob/main/5e4_assign1.ipynb\" target=\"_parent\"><img src=\"https://colab.research.google.com/assets/colab-badge.svg\" alt=\"Open In Colab\"/></a>"
      ]
    },
    {
      "cell_type": "code",
      "metadata": {
        "colab": {
          "base_uri": "https://localhost:8080/"
        },
        "id": "Cm0BH-f8Tf2P",
        "outputId": "c509db5f-f2b5-4c2d-a6d9-44e41add3416"
      },
      "source": [
        "from scipy.optimize import linprog\n",
        "obj = [-50,-120]\n",
        "A_ieq = [[7000,2000], [10,30],[1,1]]\n",
        "b_ieq = [700000,1200,110]\n",
        "boundary = [(0,float(\"inf\")),(0,float(\"inf\"))]\n",
        "optimise = linprog(c = obj, A_ub = A_ieq, b_ub = b_ieq, bounds = boundary, method = \"Simplex\")\n",
        "x,y = optimise.x\n",
        "print('x = ' f'{round(x)}')\n",
        "print('y = ' f'{round(y)}')\n",
        "Profit = (50*x)+(120*y)\n",
        "print(f'Profit : {Profit}')"
      ],
      "execution_count": 4,
      "outputs": [
        {
          "output_type": "stream",
          "name": "stdout",
          "text": [
            "x = 98\n",
            "y = 7\n",
            "Profit : 5778.9473684210525\n"
          ]
        }
      ]
    }
  ]
}