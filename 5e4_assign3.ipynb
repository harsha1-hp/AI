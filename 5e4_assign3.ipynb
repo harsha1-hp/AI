{
  "nbformat": 4,
  "nbformat_minor": 0,
  "metadata": {
    "colab": {
      "name": "5e4_assign3.ipynb",
      "provenance": [],
      "collapsed_sections": [],
      "authorship_tag": "ABX9TyM5T/0SKAHsRdvZHb1qH3TQ",
      "include_colab_link": true
    },
    "kernelspec": {
      "name": "python3",
      "display_name": "Python 3"
    },
    "language_info": {
      "name": "python"
    }
  },
  "cells": [
    {
      "cell_type": "markdown",
      "metadata": {
        "id": "view-in-github",
        "colab_type": "text"
      },
      "source": [
        "<a href=\"https://colab.research.google.com/github/harsha1-hp/AI/blob/main/5e4_assign3.ipynb\" target=\"_parent\"><img src=\"https://colab.research.google.com/assets/colab-badge.svg\" alt=\"Open In Colab\"/></a>"
      ]
    },
    {
      "cell_type": "code",
      "metadata": {
        "colab": {
          "base_uri": "https://localhost:8080/"
        },
        "id": "Cm0BH-f8Tf2P",
        "outputId": "53461652-e54d-4dbb-a6c3-3bd9bda3bb2f"
      },
      "source": [
        "import numpy as np\n",
        "import math as m\n",
        "x = np.random.uniform(-12,12)\n",
        "y = np.random.uniform(-12,12)\n",
        "eta = 0.005\n",
        "iterations = 10000\n",
        "for i in range(iterations):\n",
        "  gradx = 6*x\n",
        "  grady = -5*m.exp(-y)\n",
        "  stepx = -eta*gradx\n",
        "  stepy = -eta*grady\n",
        "  x += stepx\n",
        "  y += stepy\n",
        "x = round(x)\n",
        "y = round(y)\n",
        "print(f'The value of x,y : ', x, y)\n",
        "print(f'Minimum Vlaue of f(x,y) : ', (3*x**2)+(5*m.exp(-y))+10 )"
      ],
      "execution_count": 6,
      "outputs": [
        {
          "output_type": "stream",
          "name": "stdout",
          "text": [
            "The value of x,y :  0 6\n",
            "Minimum Vlaue of f(x,y) :  10.012393760883333\n"
          ]
        }
      ]
    }
  ]
}